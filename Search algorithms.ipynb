{
 "metadata": {
  "name": ""
 },
 "nbformat": 3,
 "nbformat_minor": 0,
 "worksheets": [
  {
   "cells": [
    {
     "cell_type": "markdown",
     "metadata": {},
     "source": [
      "#Search Algorithms in Python"
     ]
    },
    {
     "cell_type": "markdown",
     "metadata": {},
     "source": [
      "##Part 1: Construction of the \"domain\" object to be searched\n",
      "###Behavior\n",
      "- The domain shall hold a representation of a 3-dimensional space &rarr; two dimensions of location (**x**, **y**) and one dimension of value (**z**)\n",
      "- The representation shall be discrete and consist of a network of discrete units, **nodes**\n",
      "- The domain shall keep track of which nodes are **hidden** and which have been **revealed**\n",
      "- **Revealed nodes** can be queried, **hidden nodes** cannot\n",
      "- When queried and given a **revealed node**, the domain shall reveal the **avaliable child** nodes (**x**, **y**, &**z**) of the **revealed node**\n",
      "- The **START** and **FINISH** locations will be set randomly during initialization but any start and finish locations can be set\n",
      "- The domain shall be able to present it's state in a graphical way at any time when called\n"
     ]
    },
    {
     "cell_type": "code",
     "collapsed": false,
     "input": [
      "from sys import version\n",
      "import numpy as np\n",
      "import matplotlib as mpl\n",
      "from numpy import random as rnd\n",
      "from matplotlib import pyplot as plt\n",
      "import colormaps as cmaps\n",
      "import time\n",
      "import datetime\n",
      "plt.register_cmap(name='viridis', cmap=cmaps.viridis)\n",
      "plt.register_cmap(name='plasma', cmap=cmaps.plasma)\n",
      "plt.register_cmap(name='inferno', cmap=cmaps.inferno)\n",
      "plt.register_cmap(name='magma', cmap=cmaps.magma)\n",
      "np.set_printoptions(precision = 2)"
     ],
     "language": "python",
     "metadata": {},
     "outputs": [],
     "prompt_number": 7
    },
    {
     "cell_type": "code",
     "collapsed": false,
     "input": [
      "def gauss2d(x=0, y=0, x_0=0, y_0=0, s_x=1, s_y=1, theta=0):\n",
      "    # Returns the value of a generalize two dimensional gaussian function at (x,y)\n",
      "    a = (cos(theta)**2)/(2*s_x**2) + (sin(theta)**2)/(2*s_y**2)\n",
      "    b = -1*(sin(2*theta))/(4*s_x**2) + (sin(2*theta))/(4*s_y**2)\n",
      "    c = (sin(theta)**2)/(2*s_x**2) + (cos(theta)**2)/(2*s_y**2)\n",
      "    #d = 2*pi*s_x*s_y #Normalization\n",
      "    Z = np.exp(-1 * (a*(x-x_0)**2 - 2*b*(x-x_0)*(y-y_0) + c*(y-y_0)**2))#/d\n",
      "    return Z    "
     ],
     "language": "python",
     "metadata": {},
     "outputs": [],
     "prompt_number": 8
    },
    {
     "cell_type": "code",
     "collapsed": false,
     "input": [
      "class domain:\n",
      "    # This Class creates the domain to be searched by the search alogrithms objects.\n",
      "    # This Class initializes the search space and handles the exchange of informaiton with the search object.\n",
      "    \n",
      "    #~~~~~~~~~~~~~~~~~~~~~~~~~~~~~~~~~~~~~~~~~~~~~~~~~~~~~~~~~~~~~~~~~~~~~~~~\n",
      "    def __init__(self,n = 10, m = 10):\n",
      "        # Initializes the domain object with a random matrix, start and finish points\n",
      "        self.m = m # rows; this is size so think in terms of it being indexed at 1, not 0\n",
      "        self.n = n # columns\n",
      "        self.size = [n,m]\n",
      "        \n",
      "        self.revealedMask = np.zeros(self.size)\n",
      "        self.domMat = self.gaussMat()\n",
      "        \n",
      "        self.start = self.rndxy()\n",
      "        self.finish = self.rndxy(exclude=self.start)\n",
      "        \n",
      "        self.domainCallLog = [\"Domain Initialized\",time.time()]\n",
      "    \n",
      "    #~~~~~~~~~~~~~~~~~~~~~~~~~~~~~~~~~~~~~~~~~~~~~~~~~~~~~~~~~~~~~~~~~~~~~~~~\n",
      "    def __str__(self):\n",
      "        # returns the domain object's string representation\n",
      "        self.domainCallLog.extend([\"Call to __str__\",time.time()])\n",
      "        return str(self.domMat)\n",
      "    \n",
      "    #~~~~~~~~~~~~~~~~~~~~~~~~~~~~~~~~~~~~~~~~~~~~~~~~~~~~~~~~~~~~~~~~~~~~~~~~\n",
      "    def gaussMat(self, numGaussians = 10, noise=0.1):\n",
      "        # Function which generates a matrix of the sum of gaussian functions and noise\n",
      "        #self.domainCallLog.extend([\"Call to gaussMat\",time.time()])\n",
      "        grid = np.mgrid[0:self.m,0:self.n]\n",
      "        dom = np.zeros((self.m, self.n))\n",
      "        for i in range(numGaussians):\n",
      "            x0,y0,sx,sy = rnd.uniform(0,(self.m*self.n)**0.5,4)\n",
      "            t = rnd.uniform(0,pi)\n",
      "            A = 1\n",
      "            Temp = A * gauss2d(grid[0],grid[1],x0,y0,sx,sy,t)\n",
      "            dom = dom + Temp\n",
      "            #plt.imshow(Temp, interpolation=\"nearest\")\n",
      "            #plt.gca().invert_yaxis(),plt.colorbar()\n",
      "            #plt.show()\n",
      "        \n",
      "        nnoise = noise*np.abs(rnd.randn(self.m, self.n))\n",
      "        dom = dom + nnoise\n",
      "        return dom\n",
      "    #~~~~~~~~~~~~~~~~~~~~~~~~~~~~~~~~~~~~~~~~~~~~~~~~~~~~~~~~~~~~~~~~~~~~~~~~\n",
      "    def rndxy(self, exclude = None):\n",
      "        # Supplies a random integer within the domain (for use with indexes)\n",
      "        #self.domainCallLog.extend([\"Call to rndxy\",time.time()])\n",
      "        if exclude == None:\n",
      "            rx = rnd.random_integers(0,self.n-1)\n",
      "            ry = rnd.random_integers(0,self.m-1)\n",
      "        else:\n",
      "            rx = rnd.random_integers(0,self.n-1)\n",
      "            ry = rnd.random_integers(0,self.m-1)\n",
      "            if [rx,ry] == exclude and self.n-1 > 0 and self.m-1 > 0:\n",
      "                self.rndxy(exclude)\n",
      "        return [rx,ry]\n",
      "    \n",
      "    #~~~~~~~~~~~~~~~~~~~~~~~~~~~~~~~~~~~~~~~~~~~~~~~~~~~~~~~~~~~~~~~~~~~~~~~~\n",
      "    def getValueOf(self, nodeList):\n",
      "        # This is a function which takes in a list of indexes and returns the domain's \n",
      "        # value at that index and if the index is the Finish node\n",
      "        self.domainCallLog.extend([\"Call to getValueOf\",time.time()])\n",
      "        Value = []\n",
      "        for i in nodeList:\n",
      "            self.revealedMask[i[0],i[1]] = 1\n",
      "            Val = self.domMat[i[0],i[1]]\n",
      "            if (i == self.finish if shape(nodeList)[0]==1 else (i == self.finish).all()):\n",
      "                Vic = 1\n",
      "                self.domainCallLog.extend([\"Victory Found! \" + str(i),time.time()])\n",
      "                print \"Victory Found! \", i\n",
      "            else:\n",
      "                Vic = 0\n",
      "            Value.append([Val, Vic])\n",
      "        return asarray(Value)\n",
      "    \n",
      "    #~~~~~~~~~~~~~~~~~~~~~~~~~~~~~~~~~~~~~~~~~~~~~~~~~~~~~~~~~~~~~~~~~~~~~~~~\n",
      "    def getChildNodes(self, nodeXY):\n",
      "        # This a function which returns a list of the child nodes of the node at (x,y) and updates the \"Nodes Revealed\" mask\n",
      "        self.domainCallLog.extend([\"Call to getChildNodes\",time.time()])\n",
      "        x = nodeXY[0][0]\n",
      "        y = nodeXY[0][1]\n",
      "        Children = []\n",
      "        if 0 < x:\n",
      "            Children.append([x-1, y])\n",
      "            self.revealedMask[x-1,y] = 1\n",
      "        if x < (self.n-1):\n",
      "            Children.append([x+1, y])\n",
      "            self.revealedMask[x+1,y] = 1\n",
      "        if 0 < y:\n",
      "            Children.append([x, y-1])\n",
      "            self.revealedMask[x,y-1] = 1\n",
      "        if y < (self.m-1):\n",
      "            Children.append([x, y+1])\n",
      "            self.revealedMask[x,y+1] = 1\n",
      "        \n",
      "        return np.asarray(Children)\n",
      "    \n",
      "    #~~~~~~~~~~~~~~~~~~~~~~~~~~~~~~~~~~~~~~~~~~~~~~~~~~~~~~~~~~~~~~~~~~~~~~~~\n",
      "    def setStartNode(self, startNode):\n",
      "        # Setter for the start position\n",
      "        self.domainCallLog.extend([\"Call to setStartNode\",time.time()])\n",
      "        self.Start = startNode\n",
      "        print 'Start set to: ', self.Start\n",
      "        return None\n",
      "    \n",
      "    #~~~~~~~~~~~~~~~~~~~~~~~~~~~~~~~~~~~~~~~~~~~~~~~~~~~~~~~~~~~~~~~~~~~~~~~~\n",
      "    def setFinishNode(self, finishNode):\n",
      "        # Setter for the finish position\n",
      "        self.domainCallLog.extend([\"Call to setFinishNode\",time.time()])\n",
      "        self.Finish = finishNode\n",
      "        print 'Start set to: ', self.Finish\n",
      "        return None\n",
      "    \n",
      "    #~~~~~~~~~~~~~~~~~~~~~~~~~~~~~~~~~~~~~~~~~~~~~~~~~~~~~~~~~~~~~~~~~~~~~~~~\n",
      "    def showDomain(self, cmap=\"viridis\"):\n",
      "        # This is a function which displays the domain to be searched\n",
      "        #self.domainCallLog.extend([\"Call to showDomain\",time.time()])\n",
      "        figure(figsize=(10, 10))\n",
      "        plt.imshow(self.domMat, interpolation=\"nearest\")\n",
      "        plt.colorbar()\n",
      "        plt.set_cmap(cmap)\n",
      "        #plt.contour(self.domMat,colors='k')\n",
      "        plt.scatter(self.start[0], self.start[1], color='k', marker='o', s=251)\n",
      "        plt.scatter(self.finish[0], self.finish[1], color='k', marker='d', s=251)\n",
      "        plt.scatter(self.start[0], self.start[1], color='w', marker='o', s=121)\n",
      "        plt.scatter(self.finish[0], self.finish[1], color='w', marker='d', s=121)\n",
      "        plt.ylim([-0.5,self.m-0.5]);\n",
      "        plt.axes().set_aspect('equal')\n",
      "        plt.axes().set_adjustable('box-forced')\n",
      "        plt.xlim([-0.5,self.n-0.5]);\n",
      "        plt.show()"
     ],
     "language": "python",
     "metadata": {},
     "outputs": [],
     "prompt_number": 9
    },
    {
     "cell_type": "markdown",
     "metadata": {},
     "source": [
      "##Part 2: Search Algorithms\n",
      "###2.1: Parent Class \n",
      "This is the pseudo-abstract class for the following search classess specifying the interface for working with the Domain and other desired characteristics."
     ]
    },
    {
     "cell_type": "code",
     "collapsed": false,
     "input": [
      "class Search_SuperClass:\n",
      "    def __init__(self, domain):\n",
      "        self.domain = domain"
     ],
     "language": "python",
     "metadata": {},
     "outputs": [],
     "prompt_number": 10
    },
    {
     "cell_type": "markdown",
     "metadata": {},
     "source": [
      "###2.2: Depth-First Search"
     ]
    },
    {
     "cell_type": "code",
     "collapsed": false,
     "input": [
      "class DF_Search(Search_SuperClass):\n",
      "    # Recursive Depth-First Search with:\n",
      "    # prunning of branches which cost more than the  current \"Best Path\"\n",
      "    # prunning of branches which form loops\n",
      "    # prunning all suboptimal branches down stream of if/when a new path hits a node in the Best Path\n",
      "    #~~~~~~~~~~~~~~~~~~~~~~~~~~~~~~~~~~~~~~~~~~~~~~~~~~~~~~~~~~~~~~~~~~~~~~~~\n",
      "    def __init__(self, domain):\n",
      "        self.Name = 'Depth-First Search'\n",
      "        self.bestPath = None\n",
      "        self.bestCost = None\n",
      "        self.currentPath = domain.getValueOf(domain.Start)\n",
      "        self.currentCost = domain.Start\n",
      "    \n",
      "    #~~~~~~~~~~~~~~~~~~~~~~~~~~~~~~~~~~~~~~~~~~~~~~~~~~~~~~~~~~~~~~~~~~~~~~~~    \n",
      "    def solver(self):\n",
      "            None\n",
      "        \n",
      "        "
     ],
     "language": "python",
     "metadata": {},
     "outputs": [],
     "prompt_number": 11
    },
    {
     "cell_type": "code",
     "collapsed": false,
     "input": [],
     "language": "python",
     "metadata": {},
     "outputs": [],
     "prompt_number": 11
    },
    {
     "cell_type": "markdown",
     "metadata": {},
     "source": [
      "###2.3: Breadth-First Search"
     ]
    },
    {
     "cell_type": "code",
     "collapsed": false,
     "input": [
      "print \"\\nPython:\\t\\t\", (sys.version)\n",
      "print \"Numpy:\\t\\t\", numpy.__version__,\n",
      "print \"\\nmatplotlib:\\t\", matplotlib.__version__,"
     ],
     "language": "python",
     "metadata": {},
     "outputs": [
      {
       "output_type": "stream",
       "stream": "stdout",
       "text": [
        "\n",
        "Python:\t\t2.7.5 (default, May 15 2013, 22:43:36) [MSC v.1500 32 bit (Intel)]\n",
        "Numpy:\t\t1.7.1 \n",
        "matplotlib:\t1.3.0\n"
       ]
      }
     ],
     "prompt_number": 12
    },
    {
     "cell_type": "code",
     "collapsed": false,
     "input": [],
     "language": "python",
     "metadata": {},
     "outputs": [],
     "prompt_number": 12
    }
   ],
   "metadata": {}
  }
 ]
}